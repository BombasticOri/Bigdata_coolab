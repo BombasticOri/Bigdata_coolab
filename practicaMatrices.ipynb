{
  "nbformat": 4,
  "nbformat_minor": 0,
  "metadata": {
    "colab": {
      "provenance": [],
      "authorship_tag": "ABX9TyM9hHey4aQtqaDBVqwwIClp",
      "include_colab_link": true
    },
    "kernelspec": {
      "name": "python3",
      "display_name": "Python 3"
    },
    "language_info": {
      "name": "python"
    }
  },
  "cells": [
    {
      "cell_type": "markdown",
      "metadata": {
        "id": "view-in-github",
        "colab_type": "text"
      },
      "source": [
        "<a href=\"https://colab.research.google.com/github/BombasticOri/Bigdata_coolab/blob/main/practicaMatrices.ipynb\" target=\"_parent\"><img src=\"https://colab.research.google.com/assets/colab-badge.svg\" alt=\"Open In Colab\"/></a>"
      ]
    },
    {
      "cell_type": "code",
      "execution_count": 1,
      "metadata": {
        "id": "y-rHLzZOQp8B"
      },
      "outputs": [],
      "source": [
        "import numpy as np"
      ]
    },
    {
      "cell_type": "code",
      "source": [
        "# Crear un array unidimensional (vector) con 5 elementos enteros de tu elección\n",
        "vector = np.array([1, 5, 10, 15, 20])\n",
        "print(\"Array unidimensional:\\n\",vector)\n",
        "\n",
        "# Crear una matriz bidimensional (matriz) de tamaño 3x3 con valores enteros consecutivos\n",
        "matriz = np.arange(1, 10).reshape(3, 3)\n",
        "print(\"Matriz bidimensional:\\n\",matriz)\n",
        "\n",
        "# Crear una matriz de tamaño 2x4 llena de ceros\n",
        "matriz_zeros = np.zeros((2, 4))\n",
        "print(\"Matriz de tamaño 2x4:\\n\",matriz_zeros)\n",
        "\n",
        "# Crear una matriz de tamaño 3x2 llena de unos\n",
        "matriz_unos = np.ones((3, 2))\n",
        "print(\"Matriz de tamaño 3x2:\\n\",matriz_unos)\n",
        "\n",
        "# Crear una matriz de tamaño 4x4 con números enteros aleatorios entre 0 y 10\n",
        "matriz_random = np.random.randint(0, 11, (4, 4))\n",
        "print(\"Matriz de tamaño 4x4:\\n\",matriz_random)"
      ],
      "metadata": {
        "colab": {
          "base_uri": "https://localhost:8080/"
        },
        "id": "pF_ws_hEQvEx",
        "outputId": "a84e7fc7-581a-417b-d803-1e28f99c0bea"
      },
      "execution_count": 41,
      "outputs": [
        {
          "output_type": "stream",
          "name": "stdout",
          "text": [
            "Array unidimensional:\n",
            " [ 1  5 10 15 20]\n",
            "Matriz bidimensional:\n",
            " [[1 2 3]\n",
            " [4 5 6]\n",
            " [7 8 9]]\n",
            "Matriz de tamaño 2x4:\n",
            " [[0. 0. 0. 0.]\n",
            " [0. 0. 0. 0.]]\n",
            "Matriz de tamaño 3x2:\n",
            " [[1. 1.]\n",
            " [1. 1.]\n",
            " [1. 1.]]\n",
            "Matriz de tamaño 4x4:\n",
            " [[ 7 10 10  9]\n",
            " [ 1  0  5  8]\n",
            " [ 5  5  9  9]\n",
            " [ 7  0  5  9]]\n"
          ]
        }
      ]
    },
    {
      "cell_type": "code",
      "source": [
        "# Acceder al tercer elemento del vector\n",
        "tercer_elemento_vector = vector[2]\n",
        "print(\"Tercer elemento del vector:\", tercer_elemento_vector)\n",
        "\n",
        "# Acceder al elemento en la segunda fila y segunda columna de la matriz\n",
        "elemento_2_2_matriz = matriz[1, 1]\n",
        "print(\"Elemento 2 fila y 2 columna:\", elemento_2_2_matriz)"
      ],
      "metadata": {
        "colab": {
          "base_uri": "https://localhost:8080/"
        },
        "id": "uAvaxkB7RB3v",
        "outputId": "2375be50-e4d9-43c0-8189-9da171074a02"
      },
      "execution_count": 18,
      "outputs": [
        {
          "output_type": "stream",
          "name": "stdout",
          "text": [
            "Tercer elemento del vector: 10\n",
            "Elemento 2 fila y 2 columna: 5\n"
          ]
        }
      ]
    },
    {
      "cell_type": "code",
      "source": [
        "# Verificar la cantidad de dimensiones de la matriz\n",
        "dimensiones_matriz = matriz.ndim\n",
        "print(\"Cantidad de dimensiones de la matriz:\",dimensiones_matriz)\n",
        "\n",
        "# Obtener la forma de la matriz\n",
        "forma_matriz = matriz.shape\n",
        "print(\"Forma de matriz:\",forma_matriz)\n",
        "\n",
        "# Obtener el tamaño total de la matriz\n",
        "tamaño_matriz = matriz.size\n",
        "print(\"Tamaño total de la matriz:\",tamaño_matriz)"
      ],
      "metadata": {
        "colab": {
          "base_uri": "https://localhost:8080/"
        },
        "id": "XqAO30KpTd7k",
        "outputId": "4824771d-125f-4bdf-c0f0-2099379087c6"
      },
      "execution_count": 21,
      "outputs": [
        {
          "output_type": "stream",
          "name": "stdout",
          "text": [
            "Cantidad de dimensiones de la matriz: 2\n",
            "Forma de matriz: (3, 3)\n",
            "Tamaño total de la matriz: 9\n"
          ]
        }
      ]
    },
    {
      "cell_type": "code",
      "source": [
        "# Sumar dos matrices de tamaño 2x2 con valores aleatorios entre 0 y 10\n",
        "matriz_aleatoria_1 = np.random.randint(0, 11, (2, 2))\n",
        "matriz_aleatoria_2 = np.random.randint(0, 11, (2, 2))\n",
        "suma_matrices = matriz_aleatoria_1 + matriz_aleatoria_2\n",
        "print(\"Primera matriz aleatoria de 2x2:\\n\",matriz_aleatoria_1, \"\\n\")\n",
        "print(\"Segunda matriz aleatoria de 2x2:\\n\",matriz_aleatoria_2, \"\\n\")\n",
        "print(\"Suma de dos matrices 2x2:\\n\",suma_matrices,\"\\n\")\n",
        "\n",
        "# Multiplicar dos matrices de tamaño 3x2 y 2x3 respectivamente\n",
        "matriz_3x2 = np.random.randint(0, 11, (3, 2))\n",
        "matriz_2x3 = np.random.randint(0, 11, (2, 3))\n",
        "multiplicacion_matrices = np.dot(matriz_3x2, matriz_2x3)\n",
        "print(\"Primera matriz 3x2:\\n\",matriz_3x2, \"\\n\")\n",
        "print(\"Segunda matriz 2x3:\\n\",matriz_2x3, \"\\n\")\n",
        "print(\"Multiplicación de dos matrices 3x2 y 2x3:\\n\",multiplicacion_matrices,\"\\n\")\n",
        "\n",
        "# Dividir una matriz de tamaño 2x2 por otra matriz de tamaño 2x2\n",
        "matriz_d1 = np.random.randint(1, 11, (2, 2))\n",
        "matriz_d2 = np.random.randint(1, 11, (2, 2))\n",
        "division_elementos = matriz_d1 / matriz_d2\n",
        "division_inversa = np.dot(matriz_d1, np.linalg.inv(matriz_d2))\n",
        "print(\"Primera matriz aleatoria de 2x2:\\n\",matriz_d1, \"\\n\")\n",
        "print(\"Segunda matriz aleatoria de 2x2:\\n\",matriz_d2, \"\\n\")\n",
        "print(\"Resultado de la división elementos de dos matrices 2x2:\\n\",division_elementos,\"\\n\")\n",
        "print(\"Resultado de la división inversa de dos matrices 2x2:\\n\",division_inversa)\n"
      ],
      "metadata": {
        "colab": {
          "base_uri": "https://localhost:8080/"
        },
        "id": "kl8CakrkUGO-",
        "outputId": "ee63ee6c-7d46-40f5-aae2-1b075dd521ac"
      },
      "execution_count": 31,
      "outputs": [
        {
          "output_type": "stream",
          "name": "stdout",
          "text": [
            "Primera matriz aleatoria de 2x2:\n",
            " [[ 7 10]\n",
            " [ 1  1]] \n",
            "\n",
            "Segunda matriz aleatoria de 2x2:\n",
            " [[1 8]\n",
            " [3 7]] \n",
            "\n",
            "Suma de dos matrices 2x2:\n",
            " [[ 8 18]\n",
            " [ 4  8]] \n",
            "\n",
            "Primera matriz 3x2:\n",
            " [[9 0]\n",
            " [2 5]\n",
            " [1 7]] \n",
            "\n",
            "Segunda matriz 2x3:\n",
            " [[8 9 8]\n",
            " [2 9 7]] \n",
            "\n",
            "Multiplicación de dos matrices 3x2 y 2x3:\n",
            " [[72 81 72]\n",
            " [26 63 51]\n",
            " [22 72 57]] \n",
            "\n",
            "Primera matriz aleatoria de 2x2:\n",
            " [[7 3]\n",
            " [1 3]] \n",
            "\n",
            "Segunda matriz aleatoria de 2x2:\n",
            " [[4 4]\n",
            " [6 4]] \n",
            "\n",
            "Resultado de la división elementos de dos matrices 2x2:\n",
            " [[1.75       0.75      ]\n",
            " [0.16666667 0.75      ]] \n",
            "\n",
            "Resultado de la división inversa de dos matrices 2x2:\n",
            " [[-1.25  2.  ]\n",
            " [ 1.75 -1.  ]]\n"
          ]
        }
      ]
    },
    {
      "cell_type": "code",
      "source": [
        "# Convertir el vector en una matriz de tamaño 2x3\n",
        "matriz_conver = matriz.reshape(9, 1)\n",
        "print(\"Matriz convertida:\\n\",matriz_conver,\"\\n\")\n",
        "# Convertir la matriz en un vector unidimensional\n",
        "vector_matriz = matriz.flatten()\n",
        "print(\"Matriz convertida en vector unidimensional:\\n\",vector_matriz)\n"
      ],
      "metadata": {
        "colab": {
          "base_uri": "https://localhost:8080/"
        },
        "id": "7a8WrPQBXOrR",
        "outputId": "9313fceb-758e-4641-aee9-36c4f019dbad"
      },
      "execution_count": 43,
      "outputs": [
        {
          "output_type": "stream",
          "name": "stdout",
          "text": [
            "Matriz convertida:\n",
            " [[1]\n",
            " [2]\n",
            " [3]\n",
            " [4]\n",
            " [5]\n",
            " [6]\n",
            " [7]\n",
            " [8]\n",
            " [9]] \n",
            "\n",
            "Matriz convertida en vector unidimensional:\n",
            " [1 2 3 4 5 6 7 8 9]\n"
          ]
        }
      ]
    },
    {
      "cell_type": "code",
      "source": [
        "# Sumar todos los elementos de la matriz\n",
        "suma_elementos_matriz = np.sum(matriz)\n",
        "print(\"matriz:\\n\",matriz,\"\\n\")\n",
        "print(\"Suma de elementos de matriz:\\n\",suma_elementos_matriz,\"\\n\")\n",
        "\n",
        "# Calcular la media de cada fila de la matriz\n",
        "media_filas_matriz = np.mean(matriz, axis=1)\n",
        "print(\"matriz:\\n\",matriz,\"\\n\")\n",
        "print(\"Media de cada fila de matriz:\\n\",media_filas_matriz)\n"
      ],
      "metadata": {
        "colab": {
          "base_uri": "https://localhost:8080/"
        },
        "id": "RaImEm9WZqOT",
        "outputId": "6adb7390-c63f-4856-b078-3c3af769c95f"
      },
      "execution_count": 45,
      "outputs": [
        {
          "output_type": "stream",
          "name": "stdout",
          "text": [
            "matriz:\n",
            " [[1 2 3]\n",
            " [4 5 6]\n",
            " [7 8 9]] \n",
            "\n",
            "Suma de elementos de matriz:\n",
            " 45 \n",
            "\n",
            "matriz:\n",
            " [[1 2 3]\n",
            " [4 5 6]\n",
            " [7 8 9]] \n",
            "\n",
            "Media de cada fila de matriz:\n",
            " [2. 5. 8.]\n"
          ]
        }
      ]
    },
    {
      "cell_type": "code",
      "source": [
        "# Imprimir la primera fila de la matriz\n",
        "primera_fila = matriz[0]\n",
        "print(\"matriz:\\n\",matriz,\"\\n\")\n",
        "print(\"Primera fila de la matriz:\\n\",primera_fila,\"\\n\")\n",
        "\n",
        "# Imprimir las primeras dos columnas de la matriz\n",
        "primeras_dos_columnas = matriz[:, :2]\n",
        "print(\"matriz:\\n\",matriz,\"\\n\")\n",
        "print(\"Dos primeras columnas de la matriz:\\n\",primeras_dos_columnas,\"\\n\")\n"
      ],
      "metadata": {
        "colab": {
          "base_uri": "https://localhost:8080/"
        },
        "id": "WEbLAzxlaoyj",
        "outputId": "3d5a9a27-a4d9-4718-b95a-cd4540969b75"
      },
      "execution_count": 46,
      "outputs": [
        {
          "output_type": "stream",
          "name": "stdout",
          "text": [
            "matriz:\n",
            " [[1 2 3]\n",
            " [4 5 6]\n",
            " [7 8 9]] \n",
            "\n",
            "Primera fila de la matriz:\n",
            " [1 2 3] \n",
            "\n",
            "matriz:\n",
            " [[1 2 3]\n",
            " [4 5 6]\n",
            " [7 8 9]] \n",
            "\n",
            "Dos primeras columnas de la matriz:\n",
            " [[1 2]\n",
            " [4 5]\n",
            " [7 8]] \n",
            "\n"
          ]
        }
      ]
    },
    {
      "cell_type": "code",
      "source": [
        "# Definir una matriz de tamaño 4x4 con valores aleatorios\n",
        "matriz_4x4 = np.random.randint(0, 101, (4, 4))\n",
        "print(\"Matriz 4x4:\\n\",matriz_4x4,\"\\n\")\n",
        "\n",
        "# Encontrar el valor máximo y mínimo de la matriz, así como su posición\n",
        "maximo_valor = np.max(matriz_4x4)\n",
        "minimo_valor = np.min(matriz_4x4)\n",
        "posicion_maximo_valor = np.unravel_index(np.argmax(matriz_4x4), matriz_4x4.shape)\n",
        "posicion_minimo_valor = np.unravel_index(np.argmin(matriz_4x4), matriz_4x4.shape)\n",
        "print(\"Valor maximo:\\n\",maximo_valor,\"\\n\",\"\\n Posicion del valor maximo:\\n\",posicion_maximo_valor,\"\\n\")\n",
        "print(\"Valor minimo:\\n\",minimo_valor,\"\\n\",\"\\n Posicion del valor minimo:\\n\",posicion_minimo_valor)\n",
        "\n"
      ],
      "metadata": {
        "colab": {
          "base_uri": "https://localhost:8080/"
        },
        "id": "4UscV4aobDjn",
        "outputId": "8f960955-751e-41ab-d093-150208adbc66"
      },
      "execution_count": 51,
      "outputs": [
        {
          "output_type": "stream",
          "name": "stdout",
          "text": [
            "Matriz 4x4:\n",
            " [[78 71 37 45]\n",
            " [92 76 98 39]\n",
            " [22 45 91  8]\n",
            " [83 94 39 71]] \n",
            "\n",
            "Valor maximo:\n",
            " 98 \n",
            " \n",
            " Posicion del valor maximo:\n",
            " (1, 2) \n",
            "\n",
            "Valor minimo:\n",
            " 8 \n",
            " \n",
            " Posicion del valor minimo:\n",
            " (2, 3)\n"
          ]
        }
      ]
    }
  ]
}